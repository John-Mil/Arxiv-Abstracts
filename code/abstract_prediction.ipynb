{
 "cells": [
  {
   "cell_type": "code",
   "execution_count": 3,
   "metadata": {},
   "outputs": [],
   "source": [
    "from itertools import product\n",
    "from collections import namedtuple\n",
    "import csv\n",
    "\n",
    "import pandas as pd\n",
    "import numpy as np\n",
    "import seaborn as sns\n",
    "import matplotlib.pyplot as plt\n",
    "from nltk.stem.porter import PorterStemmer\n",
    "\n",
    "from sklearn.preprocessing import LabelEncoder\n",
    "from sklearn.pipeline import make_pipeline\n",
    "from sklearn.feature_extraction.text import CountVectorizer, TfidfVectorizer\n",
    "from sklearn.model_selection import cross_val_score\n",
    "from sklearn.naive_bayes import MultinomialNB\n",
    "from sklearn.ensemble import RandomForestClassifier\n",
    "from sklearn.metrics import confusion_matrix"
   ]
  },
  {
   "cell_type": "markdown",
   "metadata": {},
   "source": [
    "# Import Data"
   ]
  },
  {
   "cell_type": "code",
   "execution_count": 4,
   "metadata": {},
   "outputs": [],
   "source": [
    "FILE_NAME = 'abstracts_all.txt'"
   ]
  },
  {
   "cell_type": "code",
   "execution_count": 5,
   "metadata": {},
   "outputs": [],
   "source": [
    "def get_data(stem=False):\n",
    "    \"\"\"Return abstracts and their subject label.\n",
    "    \n",
    "        Arguments:\n",
    "            stem -- bool, stem words when True\n",
    "        \n",
    "        Returns:\n",
    "            data_arr -- np array, each row is an abstract as a string\n",
    "            category_arr -- np array, each entry is an abstract category\n",
    "    \"\"\"\n",
    "    porter = PorterStemmer()\n",
    "    with open(FILE_NAME, 'r') as file:\n",
    "        csv_reader = csv.reader(file)\n",
    "        data_ls, category_ls = [], []\n",
    "        for row in csv_reader:\n",
    "            category_ls.append(row[0])\n",
    "            data = row[1:]\n",
    "            if stem:\n",
    "                data = [porter.stem(word) for word in data]\n",
    "            data_ls.append(' '.join(data))\n",
    "    return np.array(data_ls), np.array(category_ls)"
   ]
  },
  {
   "cell_type": "markdown",
   "metadata": {},
   "source": [
    "## Not Stemmed Abstracts"
   ]
  },
  {
   "cell_type": "code",
   "execution_count": 6,
   "metadata": {},
   "outputs": [
    {
     "name": "stdout",
     "output_type": "stream",
     "text": [
      "Abstract: drought one devastating environmental disasters analyzing historical changes climate extremes critical mitigating adverse impacts future present study spatial temporal characteristics global severe droughts using palmer drought intensity index pdsi explored clustering implemented partition extreme negative pdsi values global extreme droughts magnitude around world less intense compared decades largest areas around world especially canada experienced severe historical droughts results show recent extreme droughts occurred regions north canada central regions us southwest europe southeast asia found spatial extent regions experienced extreme drought increased substantially\n",
      "Subject: AP\n",
      "\n",
      "Number of abstracts: 2686\n"
     ]
    }
   ],
   "source": [
    "# Get abstracts and their labels\n",
    "abstract_arr, category_arr = get_data()\n",
    "\n",
    "# Peek the data\n",
    "print(f'Abstract: {abstract_arr[0]}\\nSubject: {category_arr[0]}')\n",
    "\n",
    "# Number of examples\n",
    "print(f'\\nNumber of abstracts: {len(abstract_arr)}')"
   ]
  },
  {
   "cell_type": "markdown",
   "metadata": {},
   "source": [
    "## Stemmed Abstracts"
   ]
  },
  {
   "cell_type": "code",
   "execution_count": 7,
   "metadata": {},
   "outputs": [
    {
     "name": "stdout",
     "output_type": "stream",
     "text": [
      "Abstract: drought one devast environment disast analyz histor chang climat extrem critic mitig advers impact futur present studi spatial tempor characterist global sever drought use palmer drought intens index pdsi explor cluster implement partit extrem neg pdsi valu global extrem drought magnitud around world less intens compar decad largest area around world especi canada experienc sever histor drought result show recent extrem drought occur region north canada central region us southwest europ southeast asia found spatial extent region experienc extrem drought increas substanti\n",
      "Subject: AP\n"
     ]
    }
   ],
   "source": [
    "# Get abstracts and their labels\n",
    "abstract_arr_stem, _ = get_data(stem=True)  # categories are the same\n",
    "\n",
    "# Peek the data\n",
    "print(f'Abstract: {abstract_arr_stem[0]}\\nSubject: {category_arr[0]}')"
   ]
  },
  {
   "cell_type": "markdown",
   "metadata": {},
   "source": [
    "## Categories"
   ]
  },
  {
   "cell_type": "code",
   "execution_count": 8,
   "metadata": {},
   "outputs": [
    {
     "name": "stdout",
     "output_type": "stream",
     "text": [
      "Categories: ['AP' 'CO' 'ME' 'ML' 'OT' 'ST']\n",
      "Occurence of AP: 425 - 15.82%\n",
      "Occurence of CO: 167 - 6.22%\n",
      "Occurence of ME: 605 - 22.52%\n",
      "Occurence of ML: 900 - 33.51%\n",
      "Occurence of OT: 38 - 1.41%\n",
      "Occurence of ST: 551 - 20.51%\n"
     ]
    }
   ],
   "source": [
    "categories, counts = np.unique(category_arr, return_counts=True)\n",
    "\n",
    "# Categories\n",
    "print(f'Categories: {categories}')\n",
    "\n",
    "# Occurence of each subject\n",
    "for sub, ct in zip(categories, counts):\n",
    "    print(f'Occurence of {sub}: {ct} - {(ct / len(category_arr))*100:.2f}%')"
   ]
  },
  {
   "cell_type": "markdown",
   "metadata": {},
   "source": [
    "## Label Encode Targets"
   ]
  },
  {
   "cell_type": "code",
   "execution_count": 9,
   "metadata": {},
   "outputs": [
    {
     "name": "stdout",
     "output_type": "stream",
     "text": [
      "Subjects: ['AP' 'CO' 'ME' 'ML' 'OT' 'ST']\n"
     ]
    }
   ],
   "source": [
    "le = LabelEncoder()\n",
    "y = le.fit_transform(category_arr)\n",
    "\n",
    "# Subjects\n",
    "print(f'Subjects: {le.classes_}')"
   ]
  },
  {
   "cell_type": "markdown",
   "metadata": {},
   "source": [
    "# Best Model"
   ]
  },
  {
   "cell_type": "code",
   "execution_count": 8,
   "metadata": {},
   "outputs": [],
   "source": [
    "def get_best_model(data_ls, clf_ls, transform_ls=None, verbose=True):\n",
    "    \"\"\"Returns the best model as determined by 10-fold cross validation.\n",
    "    \n",
    "        Arguments:\n",
    "            data_ls -- list of named tuples TrainData('type', 'X', 'y')\n",
    "            clf_ls -- list of sklearn classifiers with hyperparameters set [MultinomialNB(), RandomForestClassifier(n_estimators=100), ...]\n",
    "            transform_ls -- (optional) list of tuples containg sklearn transformation objects to be implemented on the training features\n",
    "            verbose -- (optional) boolean to print out results of each model\n",
    "        \n",
    "        Returns:\n",
    "            best_model -- sklearn Pipeline of transforms with a final classifier\n",
    "            best_data -- namedtuple containing data that performed the best under the specified models\n",
    "            best_score -- highest average cross validation score\n",
    "    \"\"\"\n",
    "    best_model, best_score, best_data = None, 0, None\n",
    "    for data, transform, clf in product(data_ls, transform_ls, clf_ls):\n",
    "        X, y = data.X, data.y\n",
    "        model = make_pipeline(*transform, clf)\n",
    "        avg_score = cross_val_score(model, X, y, cv=10).mean()\n",
    "        if verbose:\n",
    "            steps = list(model.named_steps.keys())\n",
    "            print(f'Classifier: {steps[-1]} \\nTransform(s): {steps[:-1]} \\n10-fold CV avg acc: {avg_score:.4f}\\n')\n",
    "        if avg_score > best_score:\n",
    "            best_score = avg_score\n",
    "            best_model = model\n",
    "            best_data = data\n",
    "    if verbose:\n",
    "        steps = list(best_model.named_steps.keys())\n",
    "        print(f'Best classifier: {steps[-1]} with transformations: {steps[:-1]} and data: {best_data.type}\\nAccuracy: {best_score:.4f}')\n",
    "    return best_model, best_data, best_score"
   ]
  },
  {
   "cell_type": "code",
   "execution_count": 9,
   "metadata": {},
   "outputs": [],
   "source": [
    "# Feature Transformation\n",
    "transform_ls = [(CountVectorizer(),), (TfidfVectorizer(),)]\n",
    "\n",
    "# Classifier\n",
    "clf_ls = [MultinomialNB(), RandomForestClassifier(n_estimators=100, n_jobs=-1)]"
   ]
  },
  {
   "cell_type": "code",
   "execution_count": 10,
   "metadata": {},
   "outputs": [],
   "source": [
    "# Data\n",
    "TrainData = namedtuple('TrainData', ['type', 'X', 'y'])\n",
    "data_ls = [TrainData('no_stem', abstract_arr, y), TrainData('stem', abstract_arr_stem, y)]"
   ]
  },
  {
   "cell_type": "code",
   "execution_count": 11,
   "metadata": {},
   "outputs": [
    {
     "name": "stdout",
     "output_type": "stream",
     "text": [
      "Classifier: multinomialnb \n",
      "Transform(s): ['countvectorizer'] \n",
      "10-fold CV avg acc: 0.6672\n",
      "\n",
      "Classifier: randomforestclassifier \n",
      "Transform(s): ['countvectorizer'] \n",
      "10-fold CV avg acc: 0.6091\n",
      "\n",
      "Classifier: multinomialnb \n",
      "Transform(s): ['tfidfvectorizer'] \n",
      "10-fold CV avg acc: 0.5208\n",
      "\n",
      "Classifier: randomforestclassifier \n",
      "Transform(s): ['tfidfvectorizer'] \n",
      "10-fold CV avg acc: 0.6251\n",
      "\n",
      "Classifier: multinomialnb \n",
      "Transform(s): ['countvectorizer'] \n",
      "10-fold CV avg acc: 0.6736\n",
      "\n",
      "Classifier: randomforestclassifier \n",
      "Transform(s): ['countvectorizer'] \n",
      "10-fold CV avg acc: 0.6133\n",
      "\n",
      "Classifier: multinomialnb \n",
      "Transform(s): ['tfidfvectorizer'] \n",
      "10-fold CV avg acc: 0.5100\n",
      "\n",
      "Classifier: randomforestclassifier \n",
      "Transform(s): ['tfidfvectorizer'] \n",
      "10-fold CV avg acc: 0.6162\n",
      "\n",
      "Best classifier: multinomialnb with transformations: ['countvectorizer'] and data: stem\n",
      "Accuracy: 0.6736\n"
     ]
    }
   ],
   "source": [
    "# Best model\n",
    "best_model, best_data, _ = get_best_model(data_ls, clf_ls, transform_ls)"
   ]
  },
  {
   "cell_type": "markdown",
   "metadata": {},
   "source": [
    "# Confusion Matrix"
   ]
  },
  {
   "cell_type": "code",
   "execution_count": 1,
   "metadata": {},
   "outputs": [],
   "source": [
    "def make_confusion_matrix(model, X, y, le, cbar=True, cmap='YlGn'):\n",
    "    \"\"\"Create a confusion matrix to visualize classification results.\n",
    "    \n",
    "        Arguements:\n",
    "            model -- sklearn classifier or pipeline, object that has fit and predict methods\n",
    "            X -- 2D numpy array, shape = [n_samples, n_features]\n",
    "                Training vectors\n",
    "            y -- array_like, shape = [n_samples]\n",
    "                Target values\n",
    "            le -- sklearn LabelEncoder\n",
    "        \n",
    "        Returns:\n",
    "            fig -- Figure object\n",
    "                figure of heatmap\n",
    "            ax -- Axes object\n",
    "                axes of heatmap\n",
    "    \n",
    "    \"\"\"\n",
    "    y_pred = model.fit(X, y).predict(X)\n",
    "    mat = confusion_matrix(y, y_pred)\n",
    "    mat = mat / mat.sum(axis=1)[:, np.newaxis]\n",
    "    fig, ax = plt.subplots(dpi=200)\n",
    "    sns.heatmap(mat, square=True, annot=True, fmt='.2f', cbar=cbar, vmax=1, cmap=cmap,\n",
    "                xticklabels=le.classes_, yticklabels=le.classes_, ax=ax)\n",
    "    ax.set_title('Confusion Matrix, Normalized', fontweight='bold')\n",
    "    ax.set_xlabel('predicted label')\n",
    "    ax.set_ylabel('true label')\n",
    "    num_classes = len(le.classes_)\n",
    "    ax.set_yticks(np.arange(0.5, num_classes, 1))\n",
    "    ax.set_ylim([num_classes, 0])\n",
    "    ax.set_yticklabels(le.classes_)\n",
    "    return fig, ax"
   ]
  },
  {
   "cell_type": "code",
   "execution_count": 13,
   "metadata": {},
   "outputs": [
    {
     "data": {
      "image/png": "[encoded data removed]",
      "text/plain": [
       "<Figure size 600x400 with 1 Axes>"
      ]
     },
     "metadata": {
      "needs_background": "light"
     },
     "output_type": "display_data"
    }
   ],
   "source": [
    "# Visualize predictive accuracy\n",
    "fig, ax = make_confusion_matrix(best_model, best_data.X, best_data.y, le)"
   ]
  },
  {
   "cell_type": "markdown",
   "metadata": {},
   "source": [
    "Here we can see that out of all the abstracts labeled 'OT', the model only correctly classified 26% of them. This makes sense because this label refers to 'other' which could be a combination of categories.  \n",
    "Let us see how the model performs with all abstracts labeled 'OT' removed."
   ]
  },
  {
   "cell_type": "markdown",
   "metadata": {},
   "source": [
    "# Remove OT"
   ]
  },
  {
   "cell_type": "markdown",
   "metadata": {},
   "source": [
    "## Filter Data"
   ]
  },
  {
   "cell_type": "code",
   "execution_count": 15,
   "metadata": {},
   "outputs": [
    {
     "name": "stdout",
     "output_type": "stream",
     "text": [
      "Number of 'OT' subjects to remove: 38\n"
     ]
    }
   ],
   "source": [
    "# Boolean mask\n",
    "mask = category_arr != 'OT'\n",
    "print(f\"Number of 'OT' subjects to remove: {sum(~mask)}\")"
   ]
  },
  {
   "cell_type": "code",
   "execution_count": 16,
   "metadata": {},
   "outputs": [],
   "source": [
    "# Filter\n",
    "abstract_arr = abstract_arr[mask]\n",
    "abstract_arr_stem = abstract_arr_stem[mask]\n",
    "category_arr = category_arr[mask]"
   ]
  },
  {
   "cell_type": "markdown",
   "metadata": {},
   "source": [
    "## Label Encode Targets"
   ]
  },
  {
   "cell_type": "code",
   "execution_count": 17,
   "metadata": {},
   "outputs": [],
   "source": [
    "le = LabelEncoder()\n",
    "y = le.fit_transform(category_arr)"
   ]
  },
  {
   "cell_type": "markdown",
   "metadata": {},
   "source": [
    "## Best Model"
   ]
  },
  {
   "cell_type": "code",
   "execution_count": 17,
   "metadata": {},
   "outputs": [
    {
     "name": "stdout",
     "output_type": "stream",
     "text": [
      "Classifier: multinomialnb \n",
      "Transform(s): ['countvectorizer'] \n",
      "10-fold CV avg acc: 0.6779\n",
      "\n",
      "Classifier: randomforestclassifier \n",
      "Transform(s): ['countvectorizer'] \n",
      "10-fold CV avg acc: 0.6174\n",
      "\n",
      "Classifier: multinomialnb \n",
      "Transform(s): ['tfidfvectorizer'] \n",
      "10-fold CV avg acc: 0.5302\n",
      "\n",
      "Classifier: randomforestclassifier \n",
      "Transform(s): ['tfidfvectorizer'] \n",
      "10-fold CV avg acc: 0.6310\n",
      "\n",
      "Classifier: multinomialnb \n",
      "Transform(s): ['countvectorizer'] \n",
      "10-fold CV avg acc: 0.6828\n",
      "\n",
      "Classifier: randomforestclassifier \n",
      "Transform(s): ['countvectorizer'] \n",
      "10-fold CV avg acc: 0.6198\n",
      "\n",
      "Classifier: multinomialnb \n",
      "Transform(s): ['tfidfvectorizer'] \n",
      "10-fold CV avg acc: 0.5192\n",
      "\n",
      "Classifier: randomforestclassifier \n",
      "Transform(s): ['tfidfvectorizer'] \n",
      "10-fold CV avg acc: 0.6304\n",
      "\n",
      "Best classifier: multinomialnb with transformations: ['countvectorizer'] and data: stem\n",
      "Accuracy: 0.6828\n"
     ]
    }
   ],
   "source": [
    "# Get best model\n",
    "data_ls = [TrainData('no_stem', abstract_arr, y), TrainData('stem', abstract_arr_stem, y)]\n",
    "best_model, best_data, _ = get_best_model(data_ls, clf_ls, transform_ls)"
   ]
  },
  {
   "cell_type": "code",
   "execution_count": 18,
   "metadata": {},
   "outputs": [
    {
     "data": {
      "image/png": "[encoded data removed]",
      "text/plain": [
       "<Figure size 600x400 with 1 Axes>"
      ]
     },
     "metadata": {
      "needs_background": "light"
     },
     "output_type": "display_data"
    }
   ],
   "source": [
    "# Visualize predictive accuracy\n",
    "fig, ax = make_confusion_matrix(best_model, best_data.X, best_data.y, le)"
   ]
  },
  {
   "cell_type": "markdown",
   "metadata": {},
   "source": [
    "With 'OT' removed we can see that the model accurately predicts each category. There is a slight exception of 'CO', which out the remaining categories, has the least available examples with about 250 less examples than the second least occuring category."
   ]
  }
 ],
 "metadata": {
  "kernelspec": {
   "display_name": "Python 3",
   "language": "python",
   "name": "python3"
  },
  "language_info": {
   "codemirror_mode": {
    "name": "ipython",
    "version": 3
   },
   "file_extension": ".py",
   "mimetype": "text/x-python",
   "name": "python",
   "nbconvert_exporter": "python",
   "pygments_lexer": "ipython3",
   "version": "3.7.0"
  }
 },
 "nbformat": 4,
 "nbformat_minor": 4
}
